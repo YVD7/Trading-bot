{
 "cells": [
  {
   "cell_type": "code",
   "execution_count": 108,
   "metadata": {},
   "outputs": [],
   "source": [
    "# importing libraries\n",
    "import numpy as np\n",
    "import pandas as pd\n",
    "import matplotlib.pyplot as plt\n",
    "import yfinance as yf  # for gathering historical data\n",
    "import talib as ta  # technical analysis library with indicators\n"
   ]
  },
  {
   "cell_type": "code",
   "execution_count": 109,
   "metadata": {},
   "outputs": [
    {
     "name": "stderr",
     "output_type": "stream",
     "text": [
      "[*********************100%***********************]  1 of 1 completed\n"
     ]
    }
   ],
   "source": [
    "# downloading apple stack data for 1 day interval of past 2 years\n",
    "aapl = yf.download(tickers=\"aapl\", interval=\"1d\", period=\"2y\",auto_adjust=True)"
   ]
  },
  {
   "cell_type": "code",
   "execution_count": 110,
   "metadata": {},
   "outputs": [
    {
     "data": {
      "text/html": [
       "<div>\n",
       "<style scoped>\n",
       "    .dataframe tbody tr th:only-of-type {\n",
       "        vertical-align: middle;\n",
       "    }\n",
       "\n",
       "    .dataframe tbody tr th {\n",
       "        vertical-align: top;\n",
       "    }\n",
       "\n",
       "    .dataframe thead tr th {\n",
       "        text-align: left;\n",
       "    }\n",
       "\n",
       "    .dataframe thead tr:last-of-type th {\n",
       "        text-align: right;\n",
       "    }\n",
       "</style>\n",
       "<table border=\"1\" class=\"dataframe\">\n",
       "  <thead>\n",
       "    <tr>\n",
       "      <th>Price</th>\n",
       "      <th>Close</th>\n",
       "      <th>High</th>\n",
       "      <th>Low</th>\n",
       "      <th>Open</th>\n",
       "      <th>Volume</th>\n",
       "    </tr>\n",
       "    <tr>\n",
       "      <th>Ticker</th>\n",
       "      <th>AAPL</th>\n",
       "      <th>AAPL</th>\n",
       "      <th>AAPL</th>\n",
       "      <th>AAPL</th>\n",
       "      <th>AAPL</th>\n",
       "    </tr>\n",
       "    <tr>\n",
       "      <th>Date</th>\n",
       "      <th></th>\n",
       "      <th></th>\n",
       "      <th></th>\n",
       "      <th></th>\n",
       "      <th></th>\n",
       "    </tr>\n",
       "  </thead>\n",
       "  <tbody>\n",
       "    <tr>\n",
       "      <th>2023-02-28</th>\n",
       "      <td>145.938263</td>\n",
       "      <td>147.591588</td>\n",
       "      <td>145.364052</td>\n",
       "      <td>145.581857</td>\n",
       "      <td>50547000</td>\n",
       "    </tr>\n",
       "    <tr>\n",
       "      <th>2023-03-01</th>\n",
       "      <td>143.859222</td>\n",
       "      <td>145.760051</td>\n",
       "      <td>143.562215</td>\n",
       "      <td>145.364051</td>\n",
       "      <td>55479000</td>\n",
       "    </tr>\n",
       "    <tr>\n",
       "      <th>2023-03-02</th>\n",
       "      <td>144.453247</td>\n",
       "      <td>145.245263</td>\n",
       "      <td>142.463305</td>\n",
       "      <td>142.938524</td>\n",
       "      <td>52238100</td>\n",
       "    </tr>\n",
       "    <tr>\n",
       "      <th>2023-03-03</th>\n",
       "      <td>149.522110</td>\n",
       "      <td>149.601313</td>\n",
       "      <td>145.859054</td>\n",
       "      <td>146.561957</td>\n",
       "      <td>70732300</td>\n",
       "    </tr>\n",
       "    <tr>\n",
       "      <th>2023-03-06</th>\n",
       "      <td>152.294159</td>\n",
       "      <td>154.739500</td>\n",
       "      <td>151.927858</td>\n",
       "      <td>152.254550</td>\n",
       "      <td>87558000</td>\n",
       "    </tr>\n",
       "  </tbody>\n",
       "</table>\n",
       "</div>"
      ],
      "text/plain": [
       "Price            Close        High         Low        Open    Volume\n",
       "Ticker            AAPL        AAPL        AAPL        AAPL      AAPL\n",
       "Date                                                                \n",
       "2023-02-28  145.938263  147.591588  145.364052  145.581857  50547000\n",
       "2023-03-01  143.859222  145.760051  143.562215  145.364051  55479000\n",
       "2023-03-02  144.453247  145.245263  142.463305  142.938524  52238100\n",
       "2023-03-03  149.522110  149.601313  145.859054  146.561957  70732300\n",
       "2023-03-06  152.294159  154.739500  151.927858  152.254550  87558000"
      ]
     },
     "execution_count": 110,
     "metadata": {},
     "output_type": "execute_result"
    }
   ],
   "source": [
    "# check the data\n",
    "aapl.head()"
   ]
  },
  {
   "cell_type": "markdown",
   "metadata": {},
   "source": [
    "\"\"\"\n",
    "Above we can see that we have downloaded apple stock data.\n",
    "by doing .head() we get first 5 samples of the data.\n",
    "\"\"\""
   ]
  },
  {
   "cell_type": "code",
   "execution_count": 111,
   "metadata": {},
   "outputs": [
    {
     "name": "stdout",
     "output_type": "stream",
     "text": [
      "<class 'pandas.core.frame.DataFrame'>\n",
      "DatetimeIndex: 503 entries, 2023-02-28 to 2025-02-28\n",
      "Data columns (total 5 columns):\n",
      " #   Column          Non-Null Count  Dtype  \n",
      "---  ------          --------------  -----  \n",
      " 0   (Close, AAPL)   503 non-null    float64\n",
      " 1   (High, AAPL)    503 non-null    float64\n",
      " 2   (Low, AAPL)     503 non-null    float64\n",
      " 3   (Open, AAPL)    503 non-null    float64\n",
      " 4   (Volume, AAPL)  503 non-null    int64  \n",
      "dtypes: float64(4), int64(1)\n",
      "memory usage: 23.6 KB\n"
     ]
    }
   ],
   "source": [
    "# data info \n",
    "aapl.info()"
   ]
  },
  {
   "cell_type": "markdown",
   "metadata": {},
   "source": [
    "\"\"\" Above we can data info of last two years\n",
    "no. of rows 500 and columns ( Open High Low Close Volume) or (OHLCV) data format\n",
    "and their is no Null value which means data is consistant as a Time Serise data.\n",
    "\"\"\"\n"
   ]
  },
  {
   "cell_type": "code",
   "execution_count": 112,
   "metadata": {},
   "outputs": [
    {
     "data": {
      "text/html": [
       "<div>\n",
       "<style scoped>\n",
       "    .dataframe tbody tr th:only-of-type {\n",
       "        vertical-align: middle;\n",
       "    }\n",
       "\n",
       "    .dataframe tbody tr th {\n",
       "        vertical-align: top;\n",
       "    }\n",
       "\n",
       "    .dataframe thead tr th {\n",
       "        text-align: left;\n",
       "    }\n",
       "</style>\n",
       "<table border=\"1\" class=\"dataframe\">\n",
       "  <thead>\n",
       "    <tr>\n",
       "      <th>Price</th>\n",
       "      <th>Close</th>\n",
       "      <th>High</th>\n",
       "      <th>Low</th>\n",
       "      <th>Open</th>\n",
       "      <th>Volume</th>\n",
       "    </tr>\n",
       "    <tr>\n",
       "      <th>Ticker</th>\n",
       "      <th>AAPL</th>\n",
       "      <th>AAPL</th>\n",
       "      <th>AAPL</th>\n",
       "      <th>AAPL</th>\n",
       "      <th>AAPL</th>\n",
       "    </tr>\n",
       "  </thead>\n",
       "  <tbody>\n",
       "    <tr>\n",
       "      <th>count</th>\n",
       "      <td>503.000000</td>\n",
       "      <td>503.000000</td>\n",
       "      <td>503.000000</td>\n",
       "      <td>503.000000</td>\n",
       "      <td>5.030000e+02</td>\n",
       "    </tr>\n",
       "    <tr>\n",
       "      <th>mean</th>\n",
       "      <td>196.139759</td>\n",
       "      <td>197.727862</td>\n",
       "      <td>194.314121</td>\n",
       "      <td>195.908162</td>\n",
       "      <td>5.669423e+07</td>\n",
       "    </tr>\n",
       "    <tr>\n",
       "      <th>std</th>\n",
       "      <td>27.264128</td>\n",
       "      <td>27.519867</td>\n",
       "      <td>26.873201</td>\n",
       "      <td>27.223262</td>\n",
       "      <td>2.483686e+07</td>\n",
       "    </tr>\n",
       "    <tr>\n",
       "      <th>min</th>\n",
       "      <td>143.859222</td>\n",
       "      <td>145.245263</td>\n",
       "      <td>142.463305</td>\n",
       "      <td>142.938524</td>\n",
       "      <td>1.152342e+07</td>\n",
       "    </tr>\n",
       "    <tr>\n",
       "      <th>25%</th>\n",
       "      <td>174.215263</td>\n",
       "      <td>175.904938</td>\n",
       "      <td>172.575148</td>\n",
       "      <td>174.138701</td>\n",
       "      <td>4.381865e+07</td>\n",
       "    </tr>\n",
       "    <tr>\n",
       "      <th>50%</th>\n",
       "      <td>188.577820</td>\n",
       "      <td>189.820360</td>\n",
       "      <td>187.444596</td>\n",
       "      <td>188.647377</td>\n",
       "      <td>5.142710e+07</td>\n",
       "    </tr>\n",
       "    <tr>\n",
       "      <th>75%</th>\n",
       "      <td>223.493851</td>\n",
       "      <td>225.488719</td>\n",
       "      <td>221.474069</td>\n",
       "      <td>223.790695</td>\n",
       "      <td>6.256435e+07</td>\n",
       "    </tr>\n",
       "    <tr>\n",
       "      <th>max</th>\n",
       "      <td>258.735504</td>\n",
       "      <td>259.814335</td>\n",
       "      <td>257.347047</td>\n",
       "      <td>257.906429</td>\n",
       "      <td>3.186799e+08</td>\n",
       "    </tr>\n",
       "  </tbody>\n",
       "</table>\n",
       "</div>"
      ],
      "text/plain": [
       "Price        Close        High         Low        Open        Volume\n",
       "Ticker        AAPL        AAPL        AAPL        AAPL          AAPL\n",
       "count   503.000000  503.000000  503.000000  503.000000  5.030000e+02\n",
       "mean    196.139759  197.727862  194.314121  195.908162  5.669423e+07\n",
       "std      27.264128   27.519867   26.873201   27.223262  2.483686e+07\n",
       "min     143.859222  145.245263  142.463305  142.938524  1.152342e+07\n",
       "25%     174.215263  175.904938  172.575148  174.138701  4.381865e+07\n",
       "50%     188.577820  189.820360  187.444596  188.647377  5.142710e+07\n",
       "75%     223.493851  225.488719  221.474069  223.790695  6.256435e+07\n",
       "max     258.735504  259.814335  257.347047  257.906429  3.186799e+08"
      ]
     },
     "execution_count": 112,
     "metadata": {},
     "output_type": "execute_result"
    }
   ],
   "source": [
    "# describe the data\n",
    "aapl.describe()"
   ]
  },
  {
   "cell_type": "markdown",
   "metadata": {},
   "source": [
    "\"\"\"\n",
    "Now above we have describe the data where IQR can be seen along with mean median mode and sample count and also standard deviation\"\"\""
   ]
  },
  {
   "cell_type": "code",
   "execution_count": 113,
   "metadata": {},
   "outputs": [],
   "source": [
    "# converting the data info pandas data frame and reindexing the headers or columns name\n",
    "data = pd.DataFrame({\n",
    "    'Date': aapl.index, \n",
    "    'Open': aapl['Open'].values.flatten(),  \n",
    "    'High': aapl['High'].values.flatten(), \n",
    "    'Low': aapl['Low'].values.flatten(),    \n",
    "    'Close': aapl['Close'].values.flatten()\n",
    "})"
   ]
  },
  {
   "cell_type": "code",
   "execution_count": 114,
   "metadata": {},
   "outputs": [],
   "source": [
    "# now calculate the RSI\n",
    "data[\"rsi\"] = ta.RSI(data[\"Close\"], 14)"
   ]
  },
  {
   "cell_type": "code",
   "execution_count": 115,
   "metadata": {},
   "outputs": [
    {
     "data": {
      "text/html": [
       "<div>\n",
       "<style scoped>\n",
       "    .dataframe tbody tr th:only-of-type {\n",
       "        vertical-align: middle;\n",
       "    }\n",
       "\n",
       "    .dataframe tbody tr th {\n",
       "        vertical-align: top;\n",
       "    }\n",
       "\n",
       "    .dataframe thead th {\n",
       "        text-align: right;\n",
       "    }\n",
       "</style>\n",
       "<table border=\"1\" class=\"dataframe\">\n",
       "  <thead>\n",
       "    <tr style=\"text-align: right;\">\n",
       "      <th></th>\n",
       "      <th>Date</th>\n",
       "      <th>Open</th>\n",
       "      <th>High</th>\n",
       "      <th>Low</th>\n",
       "      <th>Close</th>\n",
       "      <th>rsi</th>\n",
       "    </tr>\n",
       "  </thead>\n",
       "  <tbody>\n",
       "    <tr>\n",
       "      <th>498</th>\n",
       "      <td>2025-02-24</td>\n",
       "      <td>244.929993</td>\n",
       "      <td>248.860001</td>\n",
       "      <td>244.419998</td>\n",
       "      <td>247.100006</td>\n",
       "      <td>63.021918</td>\n",
       "    </tr>\n",
       "    <tr>\n",
       "      <th>499</th>\n",
       "      <td>2025-02-25</td>\n",
       "      <td>248.000000</td>\n",
       "      <td>250.000000</td>\n",
       "      <td>244.910004</td>\n",
       "      <td>247.039993</td>\n",
       "      <td>62.907121</td>\n",
       "    </tr>\n",
       "    <tr>\n",
       "      <th>500</th>\n",
       "      <td>2025-02-26</td>\n",
       "      <td>244.330002</td>\n",
       "      <td>244.979996</td>\n",
       "      <td>239.130005</td>\n",
       "      <td>240.360001</td>\n",
       "      <td>51.632935</td>\n",
       "    </tr>\n",
       "    <tr>\n",
       "      <th>501</th>\n",
       "      <td>2025-02-27</td>\n",
       "      <td>239.410004</td>\n",
       "      <td>242.460007</td>\n",
       "      <td>237.059998</td>\n",
       "      <td>237.300003</td>\n",
       "      <td>47.438743</td>\n",
       "    </tr>\n",
       "    <tr>\n",
       "      <th>502</th>\n",
       "      <td>2025-02-28</td>\n",
       "      <td>236.949997</td>\n",
       "      <td>237.830002</td>\n",
       "      <td>234.509995</td>\n",
       "      <td>237.350006</td>\n",
       "      <td>47.513772</td>\n",
       "    </tr>\n",
       "  </tbody>\n",
       "</table>\n",
       "</div>"
      ],
      "text/plain": [
       "          Date        Open        High         Low       Close        rsi\n",
       "498 2025-02-24  244.929993  248.860001  244.419998  247.100006  63.021918\n",
       "499 2025-02-25  248.000000  250.000000  244.910004  247.039993  62.907121\n",
       "500 2025-02-26  244.330002  244.979996  239.130005  240.360001  51.632935\n",
       "501 2025-02-27  239.410004  242.460007  237.059998  237.300003  47.438743\n",
       "502 2025-02-28  236.949997  237.830002  234.509995  237.350006  47.513772"
      ]
     },
     "execution_count": 115,
     "metadata": {},
     "output_type": "execute_result"
    }
   ],
   "source": [
    "# Print data frame\n",
    "data.tail()"
   ]
  },
  {
   "cell_type": "markdown",
   "metadata": {},
   "source": [
    "\"\"\" Above you can see that last five rows of data with .tail() function has been printed.\n",
    "Here we can se that at the window interval 14 we have calculated RSI \"\"\""
   ]
  },
  {
   "cell_type": "code",
   "execution_count": 116,
   "metadata": {},
   "outputs": [],
   "source": [
    "# simple rsi strategy or set of rules to generate buy and sell signals\n",
    "upper_band, lower_band = 70, 30\n",
    "\n",
    "# Initialize the Signal column with None\n",
    "data[\"Signal\"] = None\n",
    "data[\"Profit\"] = None\n",
    "\n",
    "# # Use vectorized operations to set the Signal column\n",
    "# data.loc[data[\"rsi\"] > upper_band, \"Signal\"] = \"Sell\"\n",
    "# data.loc[data[\"rsi\"] < lower_band, \"Signal\"] = \"Buy\"\n",
    "\n",
    "\n",
    "last_action = None\n",
    "\n",
    "for index, row in data.iterrows():\n",
    "    if row[\"rsi\"] < lower_band and last_action != \"Buy\":\n",
    "        # First buy action\n",
    "        data.at[index, \"Signal\"] = \"Buy\"\n",
    "        last_action = \"Buy\"  # Update last action to 'Buy'\n",
    "    elif row[\"rsi\"] > upper_band and last_action == \"Buy\":\n",
    "        # Sell action after a buy\n",
    "        data.at[index, \"Signal\"] = \"Sell\"\n",
    "        last_action = \"Sell\"  # Update last action to 'Sell'\n",
    "        \n",
    "        # Below formula for calulating the profit PROFIT = Sell - Buy\n",
    "        data.at[index, \"Profit\"] = round(\n",
    "            data[data[\"Signal\"] == \"Sell\"]['Close'].iloc[-1] \n",
    "            - data[data[\"Signal\"] == \"Buy\"]['Close'].iloc[-1],\n",
    "              2)  \n",
    "        \n",
    "    elif row[\"rsi\"] < lower_band and last_action == \"Sell\":\n",
    "        # Buy action after a sell\n",
    "        data.at[index, \"Signal\"] = \"Buy\"\n",
    "        last_action = \"Buy\"  # Update last action to 'Buy'\n"
   ]
  },
  {
   "cell_type": "code",
   "execution_count": null,
   "metadata": {},
   "outputs": [],
   "source": []
  },
  {
   "cell_type": "code",
   "execution_count": 117,
   "metadata": {},
   "outputs": [],
   "source": [
    "# Buy and sell signals\n",
    "buy_signals = data[data[\"Signal\"] == \"Buy\"]\n",
    "sell_signals = data[data[\"Signal\"] == \"Sell\"]"
   ]
  },
  {
   "cell_type": "code",
   "execution_count": 118,
   "metadata": {},
   "outputs": [
    {
     "data": {
      "text/html": [
       "<div>\n",
       "<style scoped>\n",
       "    .dataframe tbody tr th:only-of-type {\n",
       "        vertical-align: middle;\n",
       "    }\n",
       "\n",
       "    .dataframe tbody tr th {\n",
       "        vertical-align: top;\n",
       "    }\n",
       "\n",
       "    .dataframe thead th {\n",
       "        text-align: right;\n",
       "    }\n",
       "</style>\n",
       "<table border=\"1\" class=\"dataframe\">\n",
       "  <thead>\n",
       "    <tr style=\"text-align: right;\">\n",
       "      <th></th>\n",
       "      <th>Date</th>\n",
       "      <th>Open</th>\n",
       "      <th>High</th>\n",
       "      <th>Low</th>\n",
       "      <th>Close</th>\n",
       "      <th>rsi</th>\n",
       "      <th>Signal</th>\n",
       "      <th>Profit</th>\n",
       "    </tr>\n",
       "  </thead>\n",
       "  <tbody>\n",
       "    <tr>\n",
       "      <th>110</th>\n",
       "      <td>2023-08-07</td>\n",
       "      <td>180.561008</td>\n",
       "      <td>181.552393</td>\n",
       "      <td>175.822187</td>\n",
       "      <td>177.309265</td>\n",
       "      <td>29.571867</td>\n",
       "      <td>Buy</td>\n",
       "      <td>None</td>\n",
       "    </tr>\n",
       "    <tr>\n",
       "      <th>214</th>\n",
       "      <td>2024-01-04</td>\n",
       "      <td>181.062914</td>\n",
       "      <td>181.997307</td>\n",
       "      <td>179.800504</td>\n",
       "      <td>180.824356</td>\n",
       "      <td>29.828364</td>\n",
       "      <td>Buy</td>\n",
       "      <td>None</td>\n",
       "    </tr>\n",
       "    <tr>\n",
       "      <th>475</th>\n",
       "      <td>2025-01-21</td>\n",
       "      <td>223.753984</td>\n",
       "      <td>224.173521</td>\n",
       "      <td>219.139063</td>\n",
       "      <td>222.395477</td>\n",
       "      <td>29.697464</td>\n",
       "      <td>Buy</td>\n",
       "      <td>None</td>\n",
       "    </tr>\n",
       "  </tbody>\n",
       "</table>\n",
       "</div>"
      ],
      "text/plain": [
       "          Date        Open        High         Low       Close        rsi  \\\n",
       "110 2023-08-07  180.561008  181.552393  175.822187  177.309265  29.571867   \n",
       "214 2024-01-04  181.062914  181.997307  179.800504  180.824356  29.828364   \n",
       "475 2025-01-21  223.753984  224.173521  219.139063  222.395477  29.697464   \n",
       "\n",
       "    Signal Profit  \n",
       "110    Buy   None  \n",
       "214    Buy   None  \n",
       "475    Buy   None  "
      ]
     },
     "execution_count": 118,
     "metadata": {},
     "output_type": "execute_result"
    }
   ],
   "source": [
    "# buy signal data\n",
    "buy_signals.head()"
   ]
  },
  {
   "cell_type": "code",
   "execution_count": 119,
   "metadata": {},
   "outputs": [
    {
     "data": {
      "text/html": [
       "<div>\n",
       "<style scoped>\n",
       "    .dataframe tbody tr th:only-of-type {\n",
       "        vertical-align: middle;\n",
       "    }\n",
       "\n",
       "    .dataframe tbody tr th {\n",
       "        vertical-align: top;\n",
       "    }\n",
       "\n",
       "    .dataframe thead th {\n",
       "        text-align: right;\n",
       "    }\n",
       "</style>\n",
       "<table border=\"1\" class=\"dataframe\">\n",
       "  <thead>\n",
       "    <tr style=\"text-align: right;\">\n",
       "      <th></th>\n",
       "      <th>Date</th>\n",
       "      <th>Open</th>\n",
       "      <th>High</th>\n",
       "      <th>Low</th>\n",
       "      <th>Close</th>\n",
       "      <th>rsi</th>\n",
       "      <th>Signal</th>\n",
       "      <th>Profit</th>\n",
       "    </tr>\n",
       "  </thead>\n",
       "  <tbody>\n",
       "    <tr>\n",
       "      <th>182</th>\n",
       "      <td>2023-11-16</td>\n",
       "      <td>188.438656</td>\n",
       "      <td>189.820360</td>\n",
       "      <td>187.524133</td>\n",
       "      <td>188.577820</td>\n",
       "      <td>71.238916</td>\n",
       "      <td>Sell</td>\n",
       "      <td>11.27</td>\n",
       "    </tr>\n",
       "    <tr>\n",
       "      <th>305</th>\n",
       "      <td>2024-05-15</td>\n",
       "      <td>187.280584</td>\n",
       "      <td>190.011396</td>\n",
       "      <td>186.742384</td>\n",
       "      <td>189.084518</td>\n",
       "      <td>71.282644</td>\n",
       "      <td>Sell</td>\n",
       "      <td>8.26</td>\n",
       "    </tr>\n",
       "  </tbody>\n",
       "</table>\n",
       "</div>"
      ],
      "text/plain": [
       "          Date        Open        High         Low       Close        rsi  \\\n",
       "182 2023-11-16  188.438656  189.820360  187.524133  188.577820  71.238916   \n",
       "305 2024-05-15  187.280584  190.011396  186.742384  189.084518  71.282644   \n",
       "\n",
       "    Signal Profit  \n",
       "182   Sell  11.27  \n",
       "305   Sell   8.26  "
      ]
     },
     "execution_count": 119,
     "metadata": {},
     "output_type": "execute_result"
    }
   ],
   "source": [
    "# sell signal data\n",
    "sell_signals.head()\n"
   ]
  },
  {
   "cell_type": "code",
   "execution_count": 120,
   "metadata": {},
   "outputs": [
    {
     "data": {
      "text/plain": [
       "'Total Profit : $19.53'"
      ]
     },
     "execution_count": 120,
     "metadata": {},
     "output_type": "execute_result"
    }
   ],
   "source": [
    "# Total Profit\n",
    "TotalProfit = float(sum(data[data[\"Signal\"] == \"Sell\"]['Profit']))\n",
    "f\"Total Profit : ${TotalProfit}\""
   ]
  },
  {
   "cell_type": "markdown",
   "metadata": {},
   "source": [
    "#### Now will plot the buy and sell signal data with help of matplotlib library"
   ]
  },
  {
   "cell_type": "code",
   "execution_count": 121,
   "metadata": {},
   "outputs": [
    {
     "data": {
      "image/png": "[encoded data removed]",
      "text/plain": [
       "<Figure size 1000x500 with 1 Axes>"
      ]
     },
     "metadata": {},
     "output_type": "display_data"
    }
   ],
   "source": [
    "plt.figure(figsize=(10, 5))\n",
    "plt.plot(data['Date'], data['rsi'], label='RSI', color='blue', linestyle='-')\n",
    "plt.axhline(y=upper_band, color='red', linestyle='--', label='Upper Band (70)')\n",
    "plt.axhline(y=lower_band, color='green', linestyle='--', label='Lower Band (30)')\n",
    "\n",
    "# Mark Buy signals\n",
    "plt.scatter(buy_signals['Date'], buy_signals['rsi'], color='green', marker='^', s=100, label='Buy Signal')\n",
    "\n",
    "# Mark Sell signals\n",
    "plt.scatter(sell_signals['Date'], sell_signals['rsi'], color='red', marker='v', s=100, label='Sell Signal')\n",
    "\n",
    "# Adding titles and labels\n",
    "plt.title('RSI with Buy and Sell Signals')\n",
    "plt.xlabel('Date')\n",
    "plt.ylabel('RSI')\n",
    "plt.xticks(rotation=45)\n",
    "plt.legend()\n",
    "plt.grid()\n",
    "\n",
    "# Show the plot\n",
    "plt.tight_layout()\n",
    "plt.show()\n"
   ]
  },
  {
   "cell_type": "code",
   "execution_count": null,
   "metadata": {},
   "outputs": [],
   "source": []
  },
  {
   "cell_type": "code",
   "execution_count": null,
   "metadata": {},
   "outputs": [],
   "source": []
  },
  {
   "cell_type": "code",
   "execution_count": null,
   "metadata": {},
   "outputs": [],
   "source": []
  },
  {
   "cell_type": "code",
   "execution_count": null,
   "metadata": {},
   "outputs": [],
   "source": []
  },
  {
   "cell_type": "code",
   "execution_count": null,
   "metadata": {},
   "outputs": [],
   "source": []
  },
  {
   "cell_type": "code",
   "execution_count": null,
   "metadata": {},
   "outputs": [],
   "source": []
  },
  {
   "cell_type": "code",
   "execution_count": null,
   "metadata": {},
   "outputs": [],
   "source": []
  },
  {
   "cell_type": "code",
   "execution_count": null,
   "metadata": {},
   "outputs": [],
   "source": []
  },
  {
   "cell_type": "code",
   "execution_count": null,
   "metadata": {},
   "outputs": [],
   "source": []
  },
  {
   "cell_type": "code",
   "execution_count": null,
   "metadata": {},
   "outputs": [],
   "source": []
  }
 ],
 "metadata": {
  "kernelspec": {
   "display_name": "Python 3 (ipykernel)",
   "language": "python",
   "name": "python3"
  },
  "language_info": {
   "codemirror_mode": {
    "name": "ipython",
    "version": 3
   },
   "file_extension": ".py",
   "mimetype": "text/x-python",
   "name": "python",
   "nbconvert_exporter": "python",
   "pygments_lexer": "ipython3",
   "version": "3.13.2"
  }
 },
 "nbformat": 4,
 "nbformat_minor": 4
}
