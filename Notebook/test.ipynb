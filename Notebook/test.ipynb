{
 "cells": [
  {
   "cell_type": "code",
   "execution_count": 18,
   "metadata": {},
   "outputs": [],
   "source": [
    "# importing libraries\n",
    "import numpy as np\n",
    "import pandas as pd\n",
    "import matplotlib.pyplot as plt\n",
    "import yfinance as yf  # for gathering historical data\n",
    "import talib as ta  # technical analysis library with indicators\n"
   ]
  },
  {
   "cell_type": "code",
   "execution_count": 19,
   "metadata": {},
   "outputs": [
    {
     "name": "stderr",
     "output_type": "stream",
     "text": [
      "[*********************100%***********************]  1 of 1 completed\n"
     ]
    }
   ],
   "source": [
    "# downloading apple stack data for 1 day interval of past 2 years\n",
    "aapl = yf.download(tickers=\"aapl\", interval=\"1d\", period=\"2y\",auto_adjust=True)"
   ]
  },
  {
   "cell_type": "code",
   "execution_count": 20,
   "metadata": {},
   "outputs": [
    {
     "data": {
      "text/html": [
       "<div>\n",
       "<style scoped>\n",
       "    .dataframe tbody tr th:only-of-type {\n",
       "        vertical-align: middle;\n",
       "    }\n",
       "\n",
       "    .dataframe tbody tr th {\n",
       "        vertical-align: top;\n",
       "    }\n",
       "\n",
       "    .dataframe thead tr th {\n",
       "        text-align: left;\n",
       "    }\n",
       "\n",
       "    .dataframe thead tr:last-of-type th {\n",
       "        text-align: right;\n",
       "    }\n",
       "</style>\n",
       "<table border=\"1\" class=\"dataframe\">\n",
       "  <thead>\n",
       "    <tr>\n",
       "      <th>Price</th>\n",
       "      <th>Close</th>\n",
       "      <th>High</th>\n",
       "      <th>Low</th>\n",
       "      <th>Open</th>\n",
       "      <th>Volume</th>\n",
       "    </tr>\n",
       "    <tr>\n",
       "      <th>Ticker</th>\n",
       "      <th>AAPL</th>\n",
       "      <th>AAPL</th>\n",
       "      <th>AAPL</th>\n",
       "      <th>AAPL</th>\n",
       "      <th>AAPL</th>\n",
       "    </tr>\n",
       "    <tr>\n",
       "      <th>Date</th>\n",
       "      <th></th>\n",
       "      <th></th>\n",
       "      <th></th>\n",
       "      <th></th>\n",
       "      <th></th>\n",
       "    </tr>\n",
       "  </thead>\n",
       "  <tbody>\n",
       "    <tr>\n",
       "      <th>2023-02-15</th>\n",
       "      <td>153.779160</td>\n",
       "      <td>153.947460</td>\n",
       "      <td>151.353624</td>\n",
       "      <td>151.581323</td>\n",
       "      <td>65573800</td>\n",
       "    </tr>\n",
       "    <tr>\n",
       "      <th>2023-02-16</th>\n",
       "      <td>152.175354</td>\n",
       "      <td>154.769191</td>\n",
       "      <td>151.818948</td>\n",
       "      <td>151.977339</td>\n",
       "      <td>68167900</td>\n",
       "    </tr>\n",
       "    <tr>\n",
       "      <th>2023-02-17</th>\n",
       "      <td>151.026947</td>\n",
       "      <td>151.472451</td>\n",
       "      <td>149.343923</td>\n",
       "      <td>150.828947</td>\n",
       "      <td>59144100</td>\n",
       "    </tr>\n",
       "    <tr>\n",
       "      <th>2023-02-21</th>\n",
       "      <td>146.997574</td>\n",
       "      <td>149.789426</td>\n",
       "      <td>146.928281</td>\n",
       "      <td>148.700403</td>\n",
       "      <td>58867200</td>\n",
       "    </tr>\n",
       "    <tr>\n",
       "      <th>2023-02-22</th>\n",
       "      <td>147.423279</td>\n",
       "      <td>148.452889</td>\n",
       "      <td>145.690751</td>\n",
       "      <td>147.383670</td>\n",
       "      <td>51011300</td>\n",
       "    </tr>\n",
       "  </tbody>\n",
       "</table>\n",
       "</div>"
      ],
      "text/plain": [
       "Price            Close        High         Low        Open    Volume\n",
       "Ticker            AAPL        AAPL        AAPL        AAPL      AAPL\n",
       "Date                                                                \n",
       "2023-02-15  153.779160  153.947460  151.353624  151.581323  65573800\n",
       "2023-02-16  152.175354  154.769191  151.818948  151.977339  68167900\n",
       "2023-02-17  151.026947  151.472451  149.343923  150.828947  59144100\n",
       "2023-02-21  146.997574  149.789426  146.928281  148.700403  58867200\n",
       "2023-02-22  147.423279  148.452889  145.690751  147.383670  51011300"
      ]
     },
     "execution_count": 20,
     "metadata": {},
     "output_type": "execute_result"
    }
   ],
   "source": [
    "# check the data\n",
    "aapl.head()"
   ]
  },
  {
   "cell_type": "markdown",
   "metadata": {},
   "source": [
    "\"\"\"\n",
    "Above we can see that we have downloaded apple stock data.\n",
    "by doing .head() we get first 5 samples of the data.\n",
    "\"\"\""
   ]
  },
  {
   "cell_type": "code",
   "execution_count": 21,
   "metadata": {},
   "outputs": [
    {
     "name": "stdout",
     "output_type": "stream",
     "text": [
      "<class 'pandas.core.frame.DataFrame'>\n",
      "DatetimeIndex: 502 entries, 2023-02-15 to 2025-02-14\n",
      "Data columns (total 5 columns):\n",
      " #   Column          Non-Null Count  Dtype  \n",
      "---  ------          --------------  -----  \n",
      " 0   (Close, AAPL)   502 non-null    float64\n",
      " 1   (High, AAPL)    502 non-null    float64\n",
      " 2   (Low, AAPL)     502 non-null    float64\n",
      " 3   (Open, AAPL)    502 non-null    float64\n",
      " 4   (Volume, AAPL)  502 non-null    int64  \n",
      "dtypes: float64(4), int64(1)\n",
      "memory usage: 23.5 KB\n"
     ]
    }
   ],
   "source": [
    "# data info \n",
    "aapl.info()"
   ]
  },
  {
   "cell_type": "markdown",
   "metadata": {},
   "source": [
    "\"\"\" Above we can data info of last two years\n",
    "no. of rows 500 and columns ( Open High Low Close Volume) or (OHLCV) data format\n",
    "and their is no Null value which means data is consistant as a Time Serise data.\n",
    "\"\"\"\n"
   ]
  },
  {
   "cell_type": "code",
   "execution_count": 22,
   "metadata": {},
   "outputs": [
    {
     "data": {
      "text/html": [
       "<div>\n",
       "<style scoped>\n",
       "    .dataframe tbody tr th:only-of-type {\n",
       "        vertical-align: middle;\n",
       "    }\n",
       "\n",
       "    .dataframe tbody tr th {\n",
       "        vertical-align: top;\n",
       "    }\n",
       "\n",
       "    .dataframe thead tr th {\n",
       "        text-align: left;\n",
       "    }\n",
       "</style>\n",
       "<table border=\"1\" class=\"dataframe\">\n",
       "  <thead>\n",
       "    <tr>\n",
       "      <th>Price</th>\n",
       "      <th>Close</th>\n",
       "      <th>High</th>\n",
       "      <th>Low</th>\n",
       "      <th>Open</th>\n",
       "      <th>Volume</th>\n",
       "    </tr>\n",
       "    <tr>\n",
       "      <th>Ticker</th>\n",
       "      <th>AAPL</th>\n",
       "      <th>AAPL</th>\n",
       "      <th>AAPL</th>\n",
       "      <th>AAPL</th>\n",
       "      <th>AAPL</th>\n",
       "    </tr>\n",
       "  </thead>\n",
       "  <tbody>\n",
       "    <tr>\n",
       "      <th>count</th>\n",
       "      <td>502.000000</td>\n",
       "      <td>502.000000</td>\n",
       "      <td>502.000000</td>\n",
       "      <td>502.000000</td>\n",
       "      <td>5.020000e+02</td>\n",
       "    </tr>\n",
       "    <tr>\n",
       "      <th>mean</th>\n",
       "      <td>194.540693</td>\n",
       "      <td>196.109554</td>\n",
       "      <td>192.722334</td>\n",
       "      <td>194.301643</td>\n",
       "      <td>5.698377e+07</td>\n",
       "    </tr>\n",
       "    <tr>\n",
       "      <th>std</th>\n",
       "      <td>27.162913</td>\n",
       "      <td>27.407041</td>\n",
       "      <td>26.749467</td>\n",
       "      <td>27.096051</td>\n",
       "      <td>2.472532e+07</td>\n",
       "    </tr>\n",
       "    <tr>\n",
       "      <th>min</th>\n",
       "      <td>143.859207</td>\n",
       "      <td>145.245263</td>\n",
       "      <td>142.463305</td>\n",
       "      <td>142.938524</td>\n",
       "      <td>2.323470e+07</td>\n",
       "    </tr>\n",
       "    <tr>\n",
       "      <th>25%</th>\n",
       "      <td>173.294876</td>\n",
       "      <td>174.907160</td>\n",
       "      <td>171.989021</td>\n",
       "      <td>173.049182</td>\n",
       "      <td>4.434548e+07</td>\n",
       "    </tr>\n",
       "    <tr>\n",
       "      <th>50%</th>\n",
       "      <td>188.021996</td>\n",
       "      <td>188.756752</td>\n",
       "      <td>186.505248</td>\n",
       "      <td>187.904674</td>\n",
       "      <td>5.175450e+07</td>\n",
       "    </tr>\n",
       "    <tr>\n",
       "      <th>75%</th>\n",
       "      <td>222.268318</td>\n",
       "      <td>224.819587</td>\n",
       "      <td>220.463515</td>\n",
       "      <td>222.847033</td>\n",
       "      <td>6.294375e+07</td>\n",
       "    </tr>\n",
       "    <tr>\n",
       "      <th>max</th>\n",
       "      <td>258.735504</td>\n",
       "      <td>259.814335</td>\n",
       "      <td>257.347047</td>\n",
       "      <td>257.906429</td>\n",
       "      <td>3.186799e+08</td>\n",
       "    </tr>\n",
       "  </tbody>\n",
       "</table>\n",
       "</div>"
      ],
      "text/plain": [
       "Price        Close        High         Low        Open        Volume\n",
       "Ticker        AAPL        AAPL        AAPL        AAPL          AAPL\n",
       "count   502.000000  502.000000  502.000000  502.000000  5.020000e+02\n",
       "mean    194.540693  196.109554  192.722334  194.301643  5.698377e+07\n",
       "std      27.162913   27.407041   26.749467   27.096051  2.472532e+07\n",
       "min     143.859207  145.245263  142.463305  142.938524  2.323470e+07\n",
       "25%     173.294876  174.907160  171.989021  173.049182  4.434548e+07\n",
       "50%     188.021996  188.756752  186.505248  187.904674  5.175450e+07\n",
       "75%     222.268318  224.819587  220.463515  222.847033  6.294375e+07\n",
       "max     258.735504  259.814335  257.347047  257.906429  3.186799e+08"
      ]
     },
     "execution_count": 22,
     "metadata": {},
     "output_type": "execute_result"
    }
   ],
   "source": [
    "# describe the data\n",
    "aapl.describe()"
   ]
  },
  {
   "cell_type": "markdown",
   "metadata": {},
   "source": [
    "\"\"\"\n",
    "Now above we have describe the data where IQR can be seen along with mean median mode and sample count and also standard deviation\"\"\""
   ]
  },
  {
   "cell_type": "code",
   "execution_count": 23,
   "metadata": {},
   "outputs": [],
   "source": [
    "# converting the data info pandas data frame and reindexing the headers or columns name\n",
    "data = pd.DataFrame({\n",
    "    'Date': aapl.index, \n",
    "    'Open': aapl['Open'].values.flatten(),  \n",
    "    'High': aapl['High'].values.flatten(), \n",
    "    'Low': aapl['Low'].values.flatten(),    \n",
    "    'Close': aapl['Close'].values.flatten()\n",
    "})"
   ]
  },
  {
   "cell_type": "code",
   "execution_count": 24,
   "metadata": {},
   "outputs": [],
   "source": [
    "# now calculate the RSI\n",
    "data[\"rsi\"] = ta.RSI(data[\"Close\"], 14)"
   ]
  },
  {
   "cell_type": "code",
   "execution_count": 25,
   "metadata": {},
   "outputs": [
    {
     "data": {
      "text/html": [
       "<div>\n",
       "<style scoped>\n",
       "    .dataframe tbody tr th:only-of-type {\n",
       "        vertical-align: middle;\n",
       "    }\n",
       "\n",
       "    .dataframe tbody tr th {\n",
       "        vertical-align: top;\n",
       "    }\n",
       "\n",
       "    .dataframe thead th {\n",
       "        text-align: right;\n",
       "    }\n",
       "</style>\n",
       "<table border=\"1\" class=\"dataframe\">\n",
       "  <thead>\n",
       "    <tr style=\"text-align: right;\">\n",
       "      <th></th>\n",
       "      <th>Date</th>\n",
       "      <th>Open</th>\n",
       "      <th>High</th>\n",
       "      <th>Low</th>\n",
       "      <th>Close</th>\n",
       "      <th>rsi</th>\n",
       "    </tr>\n",
       "  </thead>\n",
       "  <tbody>\n",
       "    <tr>\n",
       "      <th>497</th>\n",
       "      <td>2025-02-10</td>\n",
       "      <td>229.570007</td>\n",
       "      <td>230.589996</td>\n",
       "      <td>227.199997</td>\n",
       "      <td>227.649994</td>\n",
       "      <td>42.033880</td>\n",
       "    </tr>\n",
       "    <tr>\n",
       "      <th>498</th>\n",
       "      <td>2025-02-11</td>\n",
       "      <td>228.199997</td>\n",
       "      <td>235.229996</td>\n",
       "      <td>228.130005</td>\n",
       "      <td>232.619995</td>\n",
       "      <td>48.474496</td>\n",
       "    </tr>\n",
       "    <tr>\n",
       "      <th>499</th>\n",
       "      <td>2025-02-12</td>\n",
       "      <td>231.199997</td>\n",
       "      <td>236.960007</td>\n",
       "      <td>230.679993</td>\n",
       "      <td>236.869995</td>\n",
       "      <td>53.257315</td>\n",
       "    </tr>\n",
       "    <tr>\n",
       "      <th>500</th>\n",
       "      <td>2025-02-13</td>\n",
       "      <td>236.910004</td>\n",
       "      <td>242.339996</td>\n",
       "      <td>235.570007</td>\n",
       "      <td>241.529999</td>\n",
       "      <td>57.874611</td>\n",
       "    </tr>\n",
       "    <tr>\n",
       "      <th>501</th>\n",
       "      <td>2025-02-14</td>\n",
       "      <td>241.250000</td>\n",
       "      <td>245.550003</td>\n",
       "      <td>240.990005</td>\n",
       "      <td>244.600006</td>\n",
       "      <td>60.633526</td>\n",
       "    </tr>\n",
       "  </tbody>\n",
       "</table>\n",
       "</div>"
      ],
      "text/plain": [
       "          Date        Open        High         Low       Close        rsi\n",
       "497 2025-02-10  229.570007  230.589996  227.199997  227.649994  42.033880\n",
       "498 2025-02-11  228.199997  235.229996  228.130005  232.619995  48.474496\n",
       "499 2025-02-12  231.199997  236.960007  230.679993  236.869995  53.257315\n",
       "500 2025-02-13  236.910004  242.339996  235.570007  241.529999  57.874611\n",
       "501 2025-02-14  241.250000  245.550003  240.990005  244.600006  60.633526"
      ]
     },
     "execution_count": 25,
     "metadata": {},
     "output_type": "execute_result"
    }
   ],
   "source": [
    "# Print data frame\n",
    "data.tail()"
   ]
  },
  {
   "cell_type": "markdown",
   "metadata": {},
   "source": [
    "\"\"\" Above you can see that last five rows of data with .tail() function has been printed.\n",
    "Here we can se that at the window interval 14 we have calculated RSI \"\"\""
   ]
  },
  {
   "cell_type": "code",
   "execution_count": 53,
   "metadata": {},
   "outputs": [],
   "source": [
    "# simple rsi strategy or set of rules to generate buy and sell signals\n",
    "upper_band, lower_band = 70, 30\n",
    "\n",
    "# Initialize the Signal column with None\n",
    "data[\"Signal\"] = None\n",
    "\n",
    "# # Use vectorized operations to set the Signal column\n",
    "# data.loc[data[\"rsi\"] > upper_band, \"Signal\"] = \"Sell\"\n",
    "# data.loc[data[\"rsi\"] < lower_band, \"Signal\"] = \"Buy\"\n",
    "\n",
    "\n",
    "last_action = None\n",
    "\n",
    "for index, row in data.iterrows():\n",
    "    if row[\"rsi\"] < lower_band and last_action != \"Buy\":\n",
    "        # First buy action\n",
    "        data.at[index, \"Signal\"] = \"Buy\"\n",
    "        last_action = \"Buy\"  # Update last action to 'Buy'\n",
    "    elif row[\"rsi\"] > upper_band and last_action == \"Buy\":\n",
    "        # Sell action after a buy\n",
    "        data.at[index, \"Signal\"] = \"Sell\"\n",
    "        last_action = \"Sell\"  # Update last action to 'Sell'\n",
    "    elif row[\"rsi\"] < lower_band and last_action == \"Sell\":\n",
    "        # Buy action after a sell\n",
    "        data.at[index, \"Signal\"] = \"Buy\"\n",
    "        last_action = \"Buy\"  # Update last action to 'Buy'\n"
   ]
  },
  {
   "cell_type": "code",
   "execution_count": null,
   "metadata": {},
   "outputs": [],
   "source": []
  },
  {
   "cell_type": "code",
   "execution_count": 54,
   "metadata": {},
   "outputs": [],
   "source": [
    "# Buy and sell signals\n",
    "buy_signals = data[data[\"Signal\"] == \"Buy\"]\n",
    "sell_signals = data[data[\"Signal\"] == \"Sell\"]"
   ]
  },
  {
   "cell_type": "code",
   "execution_count": 55,
   "metadata": {},
   "outputs": [
    {
     "data": {
      "text/html": [
       "<div>\n",
       "<style scoped>\n",
       "    .dataframe tbody tr th:only-of-type {\n",
       "        vertical-align: middle;\n",
       "    }\n",
       "\n",
       "    .dataframe tbody tr th {\n",
       "        vertical-align: top;\n",
       "    }\n",
       "\n",
       "    .dataframe thead th {\n",
       "        text-align: right;\n",
       "    }\n",
       "</style>\n",
       "<table border=\"1\" class=\"dataframe\">\n",
       "  <thead>\n",
       "    <tr style=\"text-align: right;\">\n",
       "      <th></th>\n",
       "      <th>Date</th>\n",
       "      <th>Open</th>\n",
       "      <th>High</th>\n",
       "      <th>Low</th>\n",
       "      <th>Close</th>\n",
       "      <th>rsi</th>\n",
       "      <th>Signal</th>\n",
       "      <th>Position</th>\n",
       "      <th>Final_Signal</th>\n",
       "    </tr>\n",
       "  </thead>\n",
       "  <tbody>\n",
       "    <tr>\n",
       "      <th>118</th>\n",
       "      <td>2023-08-07</td>\n",
       "      <td>180.561008</td>\n",
       "      <td>181.552393</td>\n",
       "      <td>175.822187</td>\n",
       "      <td>177.309265</td>\n",
       "      <td>29.560638</td>\n",
       "      <td>Buy</td>\n",
       "      <td>Buy</td>\n",
       "      <td>None</td>\n",
       "    </tr>\n",
       "    <tr>\n",
       "      <th>222</th>\n",
       "      <td>2024-01-04</td>\n",
       "      <td>181.062914</td>\n",
       "      <td>181.997307</td>\n",
       "      <td>179.800504</td>\n",
       "      <td>180.824356</td>\n",
       "      <td>29.828387</td>\n",
       "      <td>Buy</td>\n",
       "      <td>Buy</td>\n",
       "      <td>None</td>\n",
       "    </tr>\n",
       "    <tr>\n",
       "      <th>483</th>\n",
       "      <td>2025-01-21</td>\n",
       "      <td>223.753984</td>\n",
       "      <td>224.173521</td>\n",
       "      <td>219.139063</td>\n",
       "      <td>222.395477</td>\n",
       "      <td>29.697464</td>\n",
       "      <td>Buy</td>\n",
       "      <td>Buy</td>\n",
       "      <td>None</td>\n",
       "    </tr>\n",
       "  </tbody>\n",
       "</table>\n",
       "</div>"
      ],
      "text/plain": [
       "          Date        Open        High         Low       Close        rsi  \\\n",
       "118 2023-08-07  180.561008  181.552393  175.822187  177.309265  29.560638   \n",
       "222 2024-01-04  181.062914  181.997307  179.800504  180.824356  29.828387   \n",
       "483 2025-01-21  223.753984  224.173521  219.139063  222.395477  29.697464   \n",
       "\n",
       "    Signal Position Final_Signal  \n",
       "118    Buy      Buy         None  \n",
       "222    Buy      Buy         None  \n",
       "483    Buy      Buy         None  "
      ]
     },
     "execution_count": 55,
     "metadata": {},
     "output_type": "execute_result"
    }
   ],
   "source": [
    "# buy signal data\n",
    "buy_signals.head()"
   ]
  },
  {
   "cell_type": "code",
   "execution_count": 56,
   "metadata": {},
   "outputs": [
    {
     "data": {
      "text/html": [
       "<div>\n",
       "<style scoped>\n",
       "    .dataframe tbody tr th:only-of-type {\n",
       "        vertical-align: middle;\n",
       "    }\n",
       "\n",
       "    .dataframe tbody tr th {\n",
       "        vertical-align: top;\n",
       "    }\n",
       "\n",
       "    .dataframe thead th {\n",
       "        text-align: right;\n",
       "    }\n",
       "</style>\n",
       "<table border=\"1\" class=\"dataframe\">\n",
       "  <thead>\n",
       "    <tr style=\"text-align: right;\">\n",
       "      <th></th>\n",
       "      <th>Date</th>\n",
       "      <th>Open</th>\n",
       "      <th>High</th>\n",
       "      <th>Low</th>\n",
       "      <th>Close</th>\n",
       "      <th>rsi</th>\n",
       "      <th>Signal</th>\n",
       "      <th>Position</th>\n",
       "      <th>Final_Signal</th>\n",
       "    </tr>\n",
       "  </thead>\n",
       "  <tbody>\n",
       "    <tr>\n",
       "      <th>190</th>\n",
       "      <td>2023-11-16</td>\n",
       "      <td>188.438656</td>\n",
       "      <td>189.820360</td>\n",
       "      <td>187.524133</td>\n",
       "      <td>188.577820</td>\n",
       "      <td>71.238850</td>\n",
       "      <td>Sell</td>\n",
       "      <td>Sell</td>\n",
       "      <td>None</td>\n",
       "    </tr>\n",
       "    <tr>\n",
       "      <th>313</th>\n",
       "      <td>2024-05-15</td>\n",
       "      <td>187.280568</td>\n",
       "      <td>190.011381</td>\n",
       "      <td>186.742369</td>\n",
       "      <td>189.084503</td>\n",
       "      <td>71.282594</td>\n",
       "      <td>Sell</td>\n",
       "      <td>Sell</td>\n",
       "      <td>None</td>\n",
       "    </tr>\n",
       "  </tbody>\n",
       "</table>\n",
       "</div>"
      ],
      "text/plain": [
       "          Date        Open        High         Low       Close        rsi  \\\n",
       "190 2023-11-16  188.438656  189.820360  187.524133  188.577820  71.238850   \n",
       "313 2024-05-15  187.280568  190.011381  186.742369  189.084503  71.282594   \n",
       "\n",
       "    Signal Position Final_Signal  \n",
       "190   Sell     Sell         None  \n",
       "313   Sell     Sell         None  "
      ]
     },
     "execution_count": 56,
     "metadata": {},
     "output_type": "execute_result"
    }
   ],
   "source": [
    "# sell signal data\n",
    "sell_signals.head()\n"
   ]
  },
  {
   "cell_type": "markdown",
   "metadata": {},
   "source": [
    "#### Now will plot the buy and sell signal data with help of matplotlib library"
   ]
  },
  {
   "cell_type": "code",
   "execution_count": 57,
   "metadata": {},
   "outputs": [
    {
     "data": {
      "image/png": "[encoded data removed]",
      "text/plain": [
       "<Figure size 1000x500 with 1 Axes>"
      ]
     },
     "metadata": {},
     "output_type": "display_data"
    }
   ],
   "source": [
    "plt.figure(figsize=(10, 5))\n",
    "plt.plot(data['Date'], data['rsi'], label='RSI', marker='o', color='blue', linestyle='-')\n",
    "plt.axhline(y=upper_band, color='red', linestyle='--', label='Upper Band (70)')\n",
    "plt.axhline(y=lower_band, color='green', linestyle='--', label='Lower Band (30)')\n",
    "\n",
    "# Mark Buy signals\n",
    "plt.scatter(buy_signals['Date'], buy_signals['rsi'], color='green', marker='^', s=100, label='Buy Signal')\n",
    "\n",
    "# Mark Sell signals\n",
    "plt.scatter(sell_signals['Date'], sell_signals['rsi'], color='red', marker='v', s=100, label='Sell Signal')\n",
    "\n",
    "# Adding titles and labels\n",
    "plt.title('RSI with Buy and Sell Signals')\n",
    "plt.xlabel('Date')\n",
    "plt.ylabel('RSI')\n",
    "plt.xticks(rotation=45)\n",
    "plt.legend()\n",
    "plt.grid()\n",
    "\n",
    "# Show the plot\n",
    "plt.tight_layout()\n",
    "plt.show()\n"
   ]
  },
  {
   "cell_type": "code",
   "execution_count": null,
   "metadata": {},
   "outputs": [],
   "source": []
  },
  {
   "cell_type": "code",
   "execution_count": null,
   "metadata": {},
   "outputs": [],
   "source": []
  },
  {
   "cell_type": "code",
   "execution_count": null,
   "metadata": {},
   "outputs": [],
   "source": []
  },
  {
   "cell_type": "code",
   "execution_count": null,
   "metadata": {},
   "outputs": [],
   "source": []
  },
  {
   "cell_type": "code",
   "execution_count": null,
   "metadata": {},
   "outputs": [],
   "source": []
  },
  {
   "cell_type": "code",
   "execution_count": null,
   "metadata": {},
   "outputs": [],
   "source": []
  },
  {
   "cell_type": "code",
   "execution_count": null,
   "metadata": {},
   "outputs": [],
   "source": []
  },
  {
   "cell_type": "code",
   "execution_count": null,
   "metadata": {},
   "outputs": [],
   "source": []
  },
  {
   "cell_type": "code",
   "execution_count": null,
   "metadata": {},
   "outputs": [],
   "source": []
  },
  {
   "cell_type": "code",
   "execution_count": null,
   "metadata": {},
   "outputs": [],
   "source": []
  }
 ],
 "metadata": {
  "kernelspec": {
   "display_name": "dev",
   "language": "python",
   "name": "python3"
  },
  "language_info": {
   "codemirror_mode": {
    "name": "ipython",
    "version": 3
   },
   "file_extension": ".py",
   "mimetype": "text/x-python",
   "name": "python",
   "nbconvert_exporter": "python",
   "pygments_lexer": "ipython3",
   "version": "3.12.9"
  }
 },
 "nbformat": 4,
 "nbformat_minor": 2
}
